{
  "nbformat": 4,
  "nbformat_minor": 0,
  "metadata": {
    "colab": {
      "provenance": []
    },
    "kernelspec": {
      "name": "python3",
      "display_name": "Python 3"
    },
    "language_info": {
      "name": "python"
    }
  },
  "cells": [
    {
      "cell_type": "code",
      "execution_count": null,
      "metadata": {
        "id": "GBFYXaQq2UyM"
      },
      "outputs": [],
      "source": [
        "import nbformat as nbf\n",
        "import requests"
      ]
    },
    {
      "cell_type": "markdown",
      "source": [
        "### Enter notebook details"
      ],
      "metadata": {
        "id": "sSM2FRnOD2Q3"
      }
    },
    {
      "cell_type": "code",
      "source": [
        "# name of output file\n",
        "name = \"NAND.ipynb\"\n",
        "\n",
        "## INTRO\n",
        "\n",
        "# introductory text\n",
        "introText = '''\n",
        "#Verification using SMT solvers\n",
        "\n",
        "In this notebook, we will\n",
        "look at SMT solvers and see how they can be used to formalize and verify\n",
        "statements. Particularly, we will show how we can verify that a sum-of-products\n",
        "boolean (OR of ANDS) formula can be represented using only NAND gates. We will\n",
        "verify this statement for a very simple case to introduce you to Z3, a\n",
        "state-of-the-art SMT solver, and its capabilities.\n",
        "'''\n",
        "\n",
        "## SECTION 0\n",
        "\n",
        "# functions to import from tofmcore\n",
        "importFuncs = \"\"\n",
        "\n",
        "## SECTION 1\n",
        "\n",
        "# include boolean practice?\n",
        "includeBool = True\n",
        "# include boolean arithmetic?\n",
        "includeBoolArith = False\n",
        "# include integers?\n",
        "includeIntegers = False\n",
        "\n",
        "## SECTION 2\n",
        "\n",
        "# link to core file\n",
        "coreFileLink = \"https://raw.githubusercontent.com/crrivero/FormalMethodsTasting/refs/heads/main/core/notebooks/notebookcores/NAND-core.ipynb\"\n",
        "\n",
        "## OUTRO\n",
        "outroText = '''\n",
        "###Congratulations! You have proven that Or-of-Ands is the same as Nand-of-Nands (for this simple case at least) using Z3!\n",
        "'''"
      ],
      "metadata": {
        "id": "nQFCnFPjDxsp"
      },
      "execution_count": null,
      "outputs": []
    },
    {
      "cell_type": "code",
      "source": [
        "#### GET LATEST CORE NOTEBOOKS FROM GITHUB ####\n",
        "url = \"https://raw.githubusercontent.com/crrivero/FormalMethodsTasting/refs/heads/main/core/notebooks/BooleanConstraintsBasics.ipynb\"\n",
        "response = requests.get(url)\n",
        "response.raise_for_status()\n",
        "nbBooleanBasics = nbf.reads(response.text, as_version=4)\n",
        "\n",
        "url = \"https://raw.githubusercontent.com/crrivero/FormalMethodsTasting/refs/heads/main/core/notebooks/BooleanConstraintsArithmetic.ipynb\"\n",
        "response = requests.get(url)\n",
        "response.raise_for_status()\n",
        "nbBooleanArithmetic = nbf.reads(response.text, as_version=4)\n",
        "\n",
        "url = \"https://raw.githubusercontent.com/crrivero/FormalMethodsTasting/refs/heads/main/core/notebooks/IntegerConstraints.ipynb\"\n",
        "response = requests.get(url)\n",
        "response.raise_for_status()\n",
        "nbInteger = nbf.reads(response.text, as_version=4)\n",
        "\n",
        "response = requests.get(coreFileLink)\n",
        "response.raise_for_status()\n",
        "nbCore = nbf.reads(response.text, as_version=4)\n",
        "\n",
        "\n",
        "#### BUILD NOTEBOOK ####\n",
        "\n",
        "FULLINTROTEXT = introText + '''\\n\n",
        "To get started, click on File on the top left and click \"Save a copy in Drive.\"\n",
        "This will give you an editable version of this document that you can use. Make sure you run all\n",
        "cells as you go through the notebook; some cells will not work properly unless the previous one\n",
        "has been run too.'''\n",
        "\n",
        "tofmImport = \"from tofmcore import showSolver\"\n",
        "if ( importFuncs != \"\" ):\n",
        "  tofmImport = tofmImport + \", \" + importFuncs\n",
        "\n",
        "SEC0 = '''!pip install z3-solver\n",
        "!pip install git+https://github.com/crrivero/FormalMethodsTasting.git#subdirectory=core\n",
        "from z3 import *\n",
        "''' + tofmImport + '''\n",
        "from IPython.display import clear_output\n",
        "clear_output()'''\n",
        "\n",
        "SEC1TEXT = '''## Encoding formulas in Z3\n",
        "\n",
        "The goal of this notebook is to teach you about formal methods;\n",
        "particularly, how you can use existing formal verification tools\n",
        "(in this case, Z3) to analyze and solve your own problems.\n",
        "Before we get started, let's look at some basic things we can do with Z3.'''\n",
        "\n",
        "includeSEC1 = includeBool or includeBoolArith or includeIntegers\n",
        "\n",
        "FULLOUTROTEXT = outroText + '''\\n\n",
        "####If you'd like to continue your Z3 journey, you can start with this guide to learn more:\n",
        "https://ericpony.github.io/z3py-tutorial/guide-examples.htm'''\n",
        "\n",
        "mynotebook = nbf.v4.new_notebook()\n",
        "\n",
        "mynotebook['cells'] = [ nbf.v4.new_markdown_cell(FULLINTROTEXT), nbf.v4.new_code_cell( SEC0 ) ]\n",
        "if ( includeSEC1 ):\n",
        "  mynotebook['cells'] += [ nbf.v4.new_markdown_cell(SEC1TEXT) ]\n",
        "  if ( includeBool ):\n",
        "    mynotebook['cells'] += nbBooleanBasics['cells']\n",
        "  if ( includeBoolArith ):\n",
        "    mynotebook['cells'] += nbBooleanArithmetic['cells']\n",
        "  if ( includeIntegers ):\n",
        "    mynotebook['cells'] += nbInteger['cells']\n",
        "\n",
        "mynotebook['cells'] += nbCore['cells']\n",
        "\n",
        "mynotebook['cells'] += [ nbf.v4.new_markdown_cell(FULLOUTROTEXT) ]\n",
        "\n",
        "nbf.validator.normalize( mynotebook )\n",
        "nbf.validate( mynotebook )\n",
        "\n",
        "nbf.write( mynotebook, name )"
      ],
      "metadata": {
        "id": "dBdYmugT8x3Y"
      },
      "execution_count": null,
      "outputs": []
    }
  ]
}
