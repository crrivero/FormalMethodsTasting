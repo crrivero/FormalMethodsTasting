{
  "nbformat": 4,
  "nbformat_minor": 0,
  "metadata": {
    "colab": {
      "provenance": []
    },
    "kernelspec": {
      "name": "python3",
      "display_name": "Python 3"
    },
    "language_info": {
      "name": "python"
    }
  },
  "cells": [
    {
      "cell_type": "markdown",
      "source": [
        "## Constructing $G$"
      ],
      "metadata": {
        "id": "TKeTXfdqweuM"
      }
    },
    {
      "cell_type": "code",
      "source": [
        "# Our first step is to construct $G$ as a NetworkX graph.\n",
        "\n",
        "# This simplest (albiet, most verbose) way to do this is by using a list of edges\n",
        "# For example, if you wanted to construct a J4 (a K4 missing an edge)\n",
        "# you can do it like so:\n",
        "J4 = nx.Graph( [ (0,1), (0,3), (1,2), (1,3), (2,3) ] )\n",
        "\n",
        "# To see what this looks like, we've defined a special function above that uses\n",
        "# NetworkX's drawing capabilities\n",
        "drawJ4(J4)"
      ],
      "metadata": {
        "id": "ywMnSqazwj4j"
      },
      "execution_count": null,
      "outputs": []
    },
    {
      "cell_type": "code",
      "source": [
        "# Now it's your turn! Complete the following definition of G to construct\n",
        "# the sender described in the introduction. When constructing the graph, use the\n",
        "# vertex labels 0, 1, 2, 3, 4, 5, and 6, and make sure that (0,1) and (5,6)\n",
        "# are your sender edges\n",
        "\n",
        "# Fun fact: instead of listing the edges, you can also construct the graph\n",
        "# using NetworkX's built-in functions, nx.complete_graph(.) and nx.compose(.)\n",
        "# but you should do whatever feels easier.\n",
        "\n",
        "G = nx.Graph([(0,1),(5,6)]) # replace this line\n",
        "\n",
        "# Once you've constructed the graph, you can run the next cell function to draw\n",
        "# it and verify whether you've done it correctly. The sender edges will be bolded"
      ],
      "metadata": {
        "id": "pz8q6-u4naNr"
      },
      "execution_count": null,
      "outputs": []
    },
    {
      "cell_type": "code",
      "source": [
        "drawG(G)"
      ],
      "metadata": {
        "id": "WDdwpVzmo1Q1"
      },
      "execution_count": null,
      "outputs": []
    },
    {
      "cell_type": "markdown",
      "source": [
        "## Encoding $(K_3, K_3)$-nonarrowing as boolean formulas\n",
        "\n",
        "Recall that a graph is $(K_3, K_3)$-good coloring of $G$ is one where there are no red triangles and no blue triangles, when the edges of $G$ are colored red and blue. We will now see how to encode this as a boolean formula.\n",
        "\n",
        "Suppose we represent each edge $e \\in E(G)$ as a variable $x_e$. Note that $e$ has two state's w.r.t. what color it can be: red or blue. Similarly, $x_e$ can either be true or false. Thus, we'll say that $x_e$ is true iff $e$ is blue (the rhyme should make this correspondence easy to remember 😊).\n",
        "\n",
        "Thus, if we can construct or-clause(s) for each triangle that don't allow all of its edges to be the same color, the conjunction of all these clauses must give us a formula $\\phi$ such that each satisfying assignment of $\\phi$ will correspond to a good coloring of $G$.\n",
        "\n",
        "Below, we will see how to represent boolean formulas in Z3 and find their satisfying assignments."
      ],
      "metadata": {
        "id": "jZBkx0Tx2coS"
      }
    },
    {
      "cell_type": "markdown",
      "source": [
        "### Finding Triangles in Graphs"
      ],
      "metadata": {
        "id": "uCraCEYH2j_2"
      }
    },
    {
      "cell_type": "code",
      "source": [
        "# First, we'll need a function that checks whether three given edges\n",
        "# form a triangle. This is easily done by checking the indices of the edges'\n",
        "# vertices, or counting the number of vertices and edges on the graph induced\n",
        "# by the given edges. Or, if you want to be clever, you can use some of\n",
        "# NetworkX's built-in isomorphism checking functions\n",
        "\n",
        "# You can assume that e1 e2 and e3 are 2-tuples of integers\n",
        "def isK3( e1, e2, e3 ):\n",
        "  return False"
      ],
      "metadata": {
        "id": "qWabYrjV2iQK"
      },
      "execution_count": null,
      "outputs": []
    },
    {
      "cell_type": "code",
      "source": [
        "# As a test, check that the following function returns True\n",
        "\n",
        "isK3( (5,6), (5,231), (6,231) )"
      ],
      "metadata": {
        "id": "LgPOhk8x5sAw"
      },
      "execution_count": null,
      "outputs": []
    },
    {
      "cell_type": "code",
      "source": [
        "# the following returns False\n",
        "\n",
        "isK3( (5,6), (5,231), (6,232) )"
      ],
      "metadata": {
        "id": "1FxzjrhH6Bsg"
      },
      "execution_count": null,
      "outputs": []
    },
    {
      "cell_type": "code",
      "source": [
        "# the following returns False\n",
        "\n",
        "isK3( (5,6), (5,231), (5,4) )"
      ],
      "metadata": {
        "id": "dy28Y382ydt_"
      },
      "execution_count": null,
      "outputs": []
    },
    {
      "cell_type": "markdown",
      "source": [
        "### Constructing $G$'s formula\n",
        "\n",
        "Complete the code below to construct our desired formula."
      ],
      "metadata": {
        "id": "1p1rVCN1CDO_"
      }
    },
    {
      "cell_type": "code",
      "source": [
        "edges = G.edges() # get list of edges\n",
        "\n",
        "# First, we map each edge to a unique boolean variable\n",
        "\n",
        "eMap = {} # a dictionary mapping each edge in E(G) to a variable\n",
        "eMapInv = {} # the inverse of the dictionary above\n",
        "\n",
        "idx = 1\n",
        "for e in edges:\n",
        "    b_name = 'x'+str(idx)\n",
        "    b = Bool(b_name)\n",
        "    eMap[e] = b\n",
        "    eMapInv[b_name] = e\n",
        "    idx += 1\n",
        "s = Solver() # initialize solver\n",
        "\n",
        "for e1, e2, e3 in itertools.combinations( edges, 3 ): # iterate over all 3-tuples of edges\n",
        "    # if e1 e2 and e3 form a triangle\n",
        "    if ( isK3(e1, e2, e3) ):\n",
        "        # add clauses to solver\n",
        "\n",
        "        e1Var = eMap[e1]\n",
        "        e2Var = eMap[e2]\n",
        "        e3Var = eMap[e3]\n",
        "\n",
        "        # ADD YOUR CODE HERE\n",
        "\n",
        "        s.add( Or(e1Var) ) # replace this line\n",
        "        s.add( Or(Not(e2Var)) ) # replace this line\n",
        "\n",
        "# we have defined a function that, given a Z3 solver, obtains the list of all\n",
        "# possible solutions\n",
        "good_colorings = list_all_solutions( s, list(eMap.values()) )"
      ],
      "metadata": {
        "id": "Iuv9X43ACNxz"
      },
      "execution_count": null,
      "outputs": []
    },
    {
      "cell_type": "code",
      "source": [
        "# Assuming everything is done correctly, we should have 24 solutions,\n",
        "# each of which corresponds to a good coloring of G\n",
        "print(len(good_colorings))"
      ],
      "metadata": {
        "id": "wSyhNYvnDY1o"
      },
      "execution_count": null,
      "outputs": []
    },
    {
      "cell_type": "code",
      "source": [
        "# To view these solutions, run the code in this cell with an index between 0\n",
        "# and 23 to view one of the good colorings of G\n",
        "drawGandColoring(G, eMapInv, good_colorings, index=0)"
      ],
      "metadata": {
        "id": "Fiwec_9YV7MA"
      },
      "execution_count": null,
      "outputs": []
    },
    {
      "cell_type": "markdown",
      "source": [
        "Now, we have two ways to verify that $(0,1)$ and $(5,6)$ are always the same color\n",
        "\n",
        "1.   Enumerate over all colorings and check that the edges are always the same color\n",
        "2.   Add extra clause(s) to $\\phi$ that forces $(0,1)$ and $(5,6)$ to be the same color and verify that there are no solutions to this new formula\n",
        "\n",
        "We will opt for the latter, simpler solution, given our newfound SMT-solving prowess."
      ],
      "metadata": {
        "id": "blkXh4laHG7w"
      }
    },
    {
      "cell_type": "code",
      "source": [
        "# We must first reinitialize our solver, since enumerating over all solutions\n",
        "# makes the solver unsatisfiable\n",
        "\n",
        "s = Solver() # initialize solver\n",
        "\n",
        "for e1, e2, e3 in itertools.combinations( edges, 3 ): # iterate over all 3-tuples of edges\n",
        "    # if e1 e2 and e3 form a triangle\n",
        "    if ( isK3(e1, e2, e3) ):\n",
        "        # add clauses to solver\n",
        "\n",
        "        e1Var = eMap[e1]\n",
        "        e2Var = eMap[e2]\n",
        "        e3Var = eMap[e3]\n",
        "\n",
        "        # ADD YOUR CODE HERE\n",
        "\n",
        "        s.add( Or(e1Var) ) # replace this line, same as before\n",
        "        s.add( Or(Not(e2Var)) ) # replace this line, same as before\n",
        "\n",
        "\n",
        "# Add the new clause(s) to phi below\n",
        "\n",
        "e1Var = eMap[ (0,1) ]\n",
        "e2Var = eMap[ (5,6) ]\n",
        "\n",
        "# ADD YOUR CODE HERE\n",
        "\n",
        "s.add( Or(Not(e2Var)) ) # replace this line\n",
        "\n",
        "# The following should return unsat\n",
        "s.check()"
      ],
      "metadata": {
        "id": "fuOKFX1SFvQI"
      },
      "execution_count": null,
      "outputs": []
    }
  ]
}