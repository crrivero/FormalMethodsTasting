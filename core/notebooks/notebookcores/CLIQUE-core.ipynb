{
  "nbformat": 4,
  "nbformat_minor": 0,
  "metadata": {
    "colab": {
      "provenance": []
    },
    "kernelspec": {
      "name": "python3",
      "display_name": "Python 3"
    },
    "language_info": {
      "name": "python"
    }
  },
  "cells": [
    {
      "cell_type": "markdown",
      "source": [
        "## Graphs in Python\n",
        "\n",
        "We'll use the graph library NetworkX to represent graphs before passing them on to Z3. Let's see some examples on how to make graphs below."
      ],
      "metadata": {
        "id": "1p1rVCN1CDO_"
      }
    },
    {
      "cell_type": "code",
      "source": [
        "# NetworkX allows one to build graphs a number of ways, and also has functions\n",
        "# to construct special classes of graphs. Here's an example with a complete graph:\n",
        "\n",
        "K4 = nx.complete_graph(4)\n",
        "nx.draw(K4) # nx.draw(.) can be used to show the graph"
      ],
      "metadata": {
        "id": "fAc9IMk-6M_Z"
      },
      "execution_count": null,
      "outputs": []
    },
    {
      "cell_type": "code",
      "source": [
        "# Here's an example with a cycle graph\n",
        "C7 = nx.cycle_graph(7)\n",
        "nx.draw(C7)"
      ],
      "metadata": {
        "id": "WRImufy96NBe"
      },
      "execution_count": null,
      "outputs": []
    },
    {
      "cell_type": "code",
      "source": [
        "# You can define your own graphs a number of ways. One easy way is to provide a\n",
        "# list of edges like so:\n",
        "\n",
        "edgeList = [ (0,1), (0,2), (0,3), (3,4), (4,5) ]\n",
        "G = nx.Graph( edgeList )\n",
        "nx.draw(G)"
      ],
      "metadata": {
        "id": "jMx5Cdsa6ND4"
      },
      "execution_count": null,
      "outputs": []
    },
    {
      "cell_type": "code",
      "source": [
        "# you can get the nodes and edges of your graph like so:\n",
        "print ( G.nodes() )\n",
        "print ( G.edges() )\n",
        "\n",
        "# you can read more about NetworkX's functions here: https://networkx.org/"
      ],
      "metadata": {
        "id": "8qU9CwFN6NGW"
      },
      "execution_count": null,
      "outputs": []
    },
    {
      "cell_type": "markdown",
      "source": [
        "## Making a CLIQUE solver\n",
        "\n",
        "Recall: for a graph $G$, a $k$-clique is a subset of vertices, $S$, of $G$ such that:\n",
        "\n",
        "1.   Each pair of vertices in $S$ is adjacent\n",
        "2.   $|S| = k$\n",
        "\n",
        "The CLIQUE problem is defined as follows:\n",
        "\n",
        "$$ \\{ \\langle G, k \\rangle ~|~ G \\text{ is an undirected graph with a $k$-clique }  \\} $$\n",
        "\n",
        "We will build a function that, when given graph $G$ and integer $k$, outputs a Z3 system where each solution corresponds to a clique of size at least $k$. Particularly, for a graph with $n$ vertices, we will make a system with $n$ variables (one correspond to each vertex) such that if $m$ of those variables are true, where $m \\geq k$, then they correspond to an $m$-clique in $G$."
      ],
      "metadata": {
        "id": "cHfcZZ7F6NN6"
      }
    },
    {
      "cell_type": "code",
      "source": [
        "def makeCLIQUESolver( G, k ):\n",
        "  vertices = G.nodes() # get list of vertices\n",
        "\n",
        "  # First, we map each vertex to a unique boolean variable\n",
        "\n",
        "  vMap = {} # a dictionary mapping each vertex to a variable\n",
        "\n",
        "  for v in vertices:\n",
        "      var_name = 'x'+str(v)\n",
        "      var_v = Bool(var_name)\n",
        "      vMap[v] = var_v\n",
        "\n",
        "  s = Solver() # initialize solver\n",
        "\n",
        "  # We will construct a system with n variables such that if k of\n",
        "  # those variables are true, they correspond to a k-clique in G\n",
        "\n",
        "  # For each pair of vertices we will add a constraint\n",
        "  for u, v in itertools.combinations(vertices, 2):\n",
        "\n",
        "    var_u = vMap[u] # get boolean variable corresponding to vertex u\n",
        "    var_v = vMap[v] # get boolean variable corresponding to vertex v\n",
        "\n",
        "    isAdjacent = (u in G.neighbors(v)) # True if u and v are adjacent\n",
        "\n",
        "    s.add( Or( And( var_u, var_v, isAdjacent ), True ) )\n",
        "    # REPLACE THE LINE ABOVE with one that ensures u and v are both selected\n",
        "    # by the solver only if they are adjacent in G\n",
        "\n",
        "  # To ensure that at least k vertices are selected, we need another constraint\n",
        "\n",
        "  # First, let's build the following expression:\n",
        "  # sum_expr = x1 + x2 + x3 + ... + xn\n",
        "  # sum_expr is the expression equal to the sum of all of our variables\n",
        "\n",
        "  sum_expr = 0\n",
        "  for v in vertices:\n",
        "    var_v = vMap[v]\n",
        "    sum_expr += var_v\n",
        "\n",
        "  # using sum_expr, add a constraint below that forces at least k variables to be selected\n",
        "\n",
        "  s.add( sum_expr <= 0 ) # REPLACE THIS LINE\n",
        "  return s"
      ],
      "metadata": {
        "id": "UEEbmTDa0DMr"
      },
      "execution_count": null,
      "outputs": []
    },
    {
      "cell_type": "markdown",
      "source": [
        "Let's test our solver on a few examples."
      ],
      "metadata": {
        "id": "5ArzxKoV_iTf"
      }
    },
    {
      "cell_type": "code",
      "source": [
        "G = nx.complete_graph( 4 )\n",
        "s = makeCLIQUESolver( G, 3 )\n",
        "nx.draw(G, with_labels=True)\n",
        "print ( s.check() )\n",
        "print ( s.model() )"
      ],
      "metadata": {
        "id": "831aomVu0MHf"
      },
      "execution_count": null,
      "outputs": []
    },
    {
      "cell_type": "code",
      "source": [
        "G = nx.cycle_graph( 5 )\n",
        "s = makeCLIQUESolver( G, 3 )\n",
        "nx.draw( G, with_labels=True )\n",
        "print ( s.check() )"
      ],
      "metadata": {
        "id": "0U6cRyrontMX"
      },
      "execution_count": null,
      "outputs": []
    },
    {
      "cell_type": "code",
      "source": [
        "G = nx.cycle_graph( 5 )\n",
        "s = makeCLIQUESolver( G, 2 )\n",
        "nx.draw( G, with_labels=True )\n",
        "print ( s.check() )"
      ],
      "metadata": {
        "id": "DoUl-mFi0QgV"
      },
      "execution_count": null,
      "outputs": []
    }
  ]
}