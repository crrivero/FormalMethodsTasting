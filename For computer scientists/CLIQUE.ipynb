{
 "cells": [
  {
   "cell_type": "markdown",
   "id": "70d976a4",
   "metadata": {},
   "source": [
    "\n",
    "#Solving CLIQUE using SMT solvers\n",
    "\n",
    "In this notebook, we will\n",
    "look at SMT solvers and see how they can be used to formalize and solve otherwise difficult problems. Particularly, we will show how to encode CLIQUE using constraints on a set of boolean variables.\n",
    "\n",
    "\n",
    "**Instructions:**\n",
    "1. To get started, click on File on the top left and click \"Save a copy in Drive.\"\n",
    "This will give you an editable version of this document that you can use.\n",
    "2. If you press `CMD`+`Enter` it runs the cell, and if you press `Shift`+`Enter` it runs the cell and goes to the next one.\n",
    "3. Make sure you run all cells as you go through the notebook; some cells will not work properly unless the previous one\n",
    "has been run too.\n",
    "4. If you disconnect or are inactive for some time you should run all of the cells again."
   ]
  },
  {
   "cell_type": "markdown",
   "id": "aead47b1",
   "metadata": {},
   "source": [
    "## 0. Preliminaries (you should run this cell but there is no need to read it)"
   ]
  },
  {
   "cell_type": "code",
   "execution_count": null,
   "id": "73d7461d",
   "metadata": {},
   "outputs": [],
   "source": [
    "!pip install z3-solver\n",
    "!pip install git+https://github.com/crrivero/FormalMethodsTasting.git#subdirectory=core\n",
    "from z3 import *\n",
    "from tofmcore import showSolver\n",
    "import networkx as nx\n",
    "import itertools\n",
    "from IPython.display import clear_output\n",
    "clear_output()"
   ]
  },
  {
   "cell_type": "markdown",
   "id": "8485e0ab",
   "metadata": {},
   "source": [
    "## Encoding constraints in Z3\n",
    "\n",
    "The goal of this notebook is to teach you about formal methods;\n",
    "particularly, how you can use existing formal verification tools\n",
    "(in this case, Z3) to analyze and solve your own problems.\n",
    "Before we get started, let's look at some basic things we can do with Z3."
   ]
  },
  {
   "cell_type": "markdown",
   "id": "cd8593fb",
   "metadata": {
    "id": "jdd7iQ0h9rXb"
   },
   "source": [
    "### Boolean\n",
    "\n",
    "Suppose you have the following three boolean constraints and you want to check if there's a solution (an assignment of the variables) that satisfies all of them:\n",
    "\n",
    "$$ x_1 \\lor x_2 \\lor x_3 $$\n",
    "\n",
    "$$ \\neg x_1 \\implies \\neg x_2$$\n",
    "\n",
    "$$  x_1 \\land x_3  $$\n",
    "\n",
    "Let's see how we can do this using Z3."
   ]
  },
  {
   "cell_type": "code",
   "execution_count": null,
   "id": "503b571b",
   "metadata": {
    "id": "IKNFYay926Gk"
   },
   "outputs": [],
   "source": [
    "s = Solver() # initialize Z3 solver\n",
    "\n",
    "# initialize variables\n",
    "\n",
    "x1 = Bool('x_1') # declaring that x_1 is a boolean variable in Z3 which will be referred to as x1 in Python\n",
    "x2 = Bool('x_2')\n",
    "x3 = Bool('x_3')\n",
    "\n",
    "# Note: we can also initialize multiple variables like so: x1, x2, x3 = Bools('x_1 x_2 x_3')\n",
    "\n",
    "# we use s.add(.) to add a constraint to our solver s\n",
    "# constraints can be made using many different operations such as Or, And, Not,\n",
    "# equality, etc.\n",
    "\n",
    "# here's how we would add the constraints above to our solver:\n",
    "\n",
    "s.add( Or( x1, x2, x3 ) ) # add the first constraint\n",
    "s.add( Implies( Not(x1), Not(x2) ) ) # add the second constraint\n",
    "s.add( And( x1, x3 ) ) # add the third constraint"
   ]
  },
  {
   "cell_type": "code",
   "execution_count": null,
   "id": "cb517b53",
   "metadata": {
    "id": "wdGM_Wi0d-S7"
   },
   "outputs": [],
   "source": [
    "# to view the constraints in our solver, we can use the following:\n",
    "print( s )\n",
    "# this prints the constraints as they appear in Z3 using Z3's notation"
   ]
  },
  {
   "cell_type": "markdown",
   "id": "240d1149",
   "metadata": {
    "id": "FZ6Mb6c2l4kK"
   },
   "source": [
    "For better readability, this notebook also has a custom print function to view our constraints in LaTeX format, like so:"
   ]
  },
  {
   "cell_type": "code",
   "execution_count": null,
   "id": "a7e3aac6",
   "metadata": {
    "id": "WLxWHFrdeIjE"
   },
   "outputs": [],
   "source": [
    "showSolver( s )"
   ]
  },
  {
   "cell_type": "code",
   "execution_count": null,
   "id": "33aad9af",
   "metadata": {
    "id": "YaKXNYniAB5O"
   },
   "outputs": [],
   "source": [
    "# we can use s.check() to run the solver and check whether its satisfiable:\n",
    "print ( s.check() )"
   ]
  },
  {
   "cell_type": "markdown",
   "id": "a9e3d3e1",
   "metadata": {
    "id": "ibAii-dpESNL"
   },
   "source": [
    " \"sat\" means our system of constraints is satisfiable"
   ]
  },
  {
   "cell_type": "code",
   "execution_count": null,
   "id": "26c00664",
   "metadata": {
    "id": "BA44Y5iy26Gm"
   },
   "outputs": [],
   "source": [
    "# after using s.check(),  we can use s.model() to output a solution if one exsits\n",
    "solution = s.model()\n",
    "print( solution )"
   ]
  },
  {
   "cell_type": "markdown",
   "id": "c7b37169",
   "metadata": {
    "id": "CNxyyV1Q_vaP"
   },
   "source": [
    "Let's modify our system of constraint a bit and see if it's still satisfiable. Suppose we want to check if there's a solution where $x_1 = \\neg x_3$. Let's see how we would do this with Z3."
   ]
  },
  {
   "cell_type": "code",
   "execution_count": null,
   "id": "b2065602",
   "metadata": {
    "id": "srXFnMLo_ufc"
   },
   "outputs": [],
   "source": [
    "s.add( x1 == Not(x3) )\n",
    "showSolver( s )"
   ]
  },
  {
   "cell_type": "code",
   "execution_count": null,
   "id": "5f6caf64",
   "metadata": {
    "id": "2TiotYP3D9LL"
   },
   "outputs": [],
   "source": [
    "print( s.check() ) # check if solution exists with new constraint"
   ]
  },
  {
   "cell_type": "markdown",
   "id": "274c8ed3",
   "metadata": {
    "id": "NNK4N6iWD_LN"
   },
   "source": [
    "\"unsat\" means the system is not satisfiable, i.e., there is no assignment on the variables $x_1$, $x_2$, and $x_3$ that satisfies all the constraints we gave to the solver. **Note that if we were to run s.model() now we would get an error.**"
   ]
  },
  {
   "cell_type": "markdown",
   "id": "621f707c",
   "metadata": {
    "id": "4dJKfd0kgzhj"
   },
   "source": [
    "We can also add arithmetic constraints to boolean variables:\n",
    "\n",
    "$$ x_1 + x_2 + x_3 = 1 $$\n",
    "\n",
    "To model these types of constraints, Z3 converts True/False boolean values to 1/0 integer values."
   ]
  },
  {
   "cell_type": "code",
   "execution_count": null,
   "id": "8434b6d6",
   "metadata": {
    "id": "axg5bjBPgxSI"
   },
   "outputs": [],
   "source": [
    "s = Solver() # initialize solver\n",
    "\n",
    "# initialize variables\n",
    "x1 = Bool('x_1')\n",
    "x2 = Bool('x_2')\n",
    "x3 = Bool('x_3')\n",
    "\n",
    "s.add( x1 + x2 + x3 == 1 )\n",
    "\n",
    "print( s )"
   ]
  },
  {
   "cell_type": "markdown",
   "id": "8600bf83",
   "metadata": {
    "id": "WkLWv2Obh197"
   },
   "source": [
    "Note how Z3 uses If conditions to convert boolean variables into integers.\n",
    "Our custom printer function prints these without the if conditions for better readability."
   ]
  },
  {
   "cell_type": "code",
   "execution_count": null,
   "id": "85912783",
   "metadata": {
    "id": "XcRmLEOhiBbh"
   },
   "outputs": [],
   "source": [
    "showSolver( s )"
   ]
  },
  {
   "cell_type": "code",
   "execution_count": null,
   "id": "3cc337c2",
   "metadata": {
    "id": "xbVdBTKhh1YP"
   },
   "outputs": [],
   "source": [
    "print( s.check() ) # check if satisfiable\n",
    "print( s.model() ) # print solution"
   ]
  },
  {
   "cell_type": "markdown",
   "id": "12235a24",
   "metadata": {
    "id": "WdAnSxFP2VZ7"
   },
   "source": [
    "Now it's your turn! Complete the code in the cell below to find a solution satisfying the following constraints:\n",
    "\n",
    "$$ x_1 \\lor x_2 \\lor x_3 $$\n",
    "$$ x_1 + x_2 = x_3 $$\n",
    "$$ \\neg x_1 \\implies x_3 $$"
   ]
  },
  {
   "cell_type": "code",
   "execution_count": null,
   "id": "7c0c4028",
   "metadata": {
    "id": "wmQ9zQtv3_fG"
   },
   "outputs": [],
   "source": [
    "s = Solver() # initialize solver\n",
    "\n",
    "# initialize variables\n",
    "x1 = Bool('x_1')\n",
    "x2 = Bool('x_2')\n",
    "x3 = True # REPLACE THIS LINE\n",
    "\n",
    "s.add( Or( x1, x2 ) ) # REPLACE THIS LINE\n",
    "s.add( x1 + x2 == 1 ) # REPLACE THIS LINE\n",
    "s.add( x2 == x2 )  # REPLACE THIS LINE\n",
    "\n",
    "showSolver( s )\n",
    "print( s.check() )\n",
    "print( s.model() )"
   ]
  },
  {
   "cell_type": "markdown",
   "id": "3d3656fe",
   "metadata": {
    "id": "kw43iNG0ZsUs"
   },
   "source": [
    "Note that Z3 does not support this boolean-to-integer conversion for every operator. For example, adding the constraint `x1 >= 1` or `x1 == 1` to our solver would give an error. Proper usage dictates using integers when using arithmetic constraints, but to keep things simple for our introductory notebook we will still work with booleans."
   ]
  },
  {
   "cell_type": "markdown",
   "id": "47520fd8",
   "metadata": {
    "id": "1p1rVCN1CDO_"
   },
   "source": [
    "## Graphs in Python\n",
    "\n",
    "We'll use the graph library NetworkX to represent graphs before passing them on to Z3. Let's see some examples on how to make graphs below."
   ]
  },
  {
   "cell_type": "code",
   "execution_count": null,
   "id": "e36ec63c",
   "metadata": {
    "id": "fAc9IMk-6M_Z"
   },
   "outputs": [],
   "source": [
    "# NetworkX allows one to build graphs a number of ways, and also has functions\n",
    "# to construct special classes of graphs. Here's an example with a complete graph:\n",
    "\n",
    "K4 = nx.complete_graph(4)\n",
    "nx.draw(K4) # nx.draw(.) can be used to show the graph"
   ]
  },
  {
   "cell_type": "code",
   "execution_count": null,
   "id": "2a8d408c",
   "metadata": {
    "id": "WRImufy96NBe"
   },
   "outputs": [],
   "source": [
    "# Here's an example with a cycle graph\n",
    "C7 = nx.cycle_graph(7)\n",
    "nx.draw(C7)"
   ]
  },
  {
   "cell_type": "code",
   "execution_count": null,
   "id": "10293dcf",
   "metadata": {
    "id": "jMx5Cdsa6ND4"
   },
   "outputs": [],
   "source": [
    "# You can define your own graphs a number of ways. One easy way is to provide a\n",
    "# list of edges like so:\n",
    "\n",
    "edgeList = [ (0,1), (0,2), (0,3), (3,4), (4,5) ]\n",
    "G = nx.Graph( edgeList )\n",
    "nx.draw(G)"
   ]
  },
  {
   "cell_type": "code",
   "execution_count": null,
   "id": "d4707404",
   "metadata": {
    "id": "8qU9CwFN6NGW"
   },
   "outputs": [],
   "source": [
    "# you can get the nodes and edges of your graph like so:\n",
    "print ( G.nodes() )\n",
    "print ( G.edges() )\n",
    "\n",
    "# you can read more about NetworkX's functions here: https://networkx.org/"
   ]
  },
  {
   "cell_type": "markdown",
   "id": "0ccf5d9f",
   "metadata": {
    "id": "cHfcZZ7F6NN6"
   },
   "source": [
    "## Making a CLIQUE solver\n",
    "\n",
    "Recall: for a graph $G$, a $k$-clique is a subset of vertices, $S$, of $G$ such that:\n",
    "\n",
    "1.   Each pair of vertices in $S$ is adjacent\n",
    "2.   $|S| = k$\n",
    "\n",
    "The CLIQUE problem is defined as follows:\n",
    "\n",
    "$$ \\{ \\langle G, k \\rangle ~|~ G \\text{ is an undirected graph with a $k$-clique }  \\} $$\n",
    "\n",
    "We will build a function that, when given graph $G$ and integer $k$, outputs a Z3 system where each solution corresponds to a clique of size at least $k$. Particularly, for a graph with $n$ vertices, we will make a system with $n$ variables (one correspond to each vertex) such that if $m$ of those variables are true, where $m \\geq k$, then they correspond to an $m$-clique in $G$."
   ]
  },
  {
   "cell_type": "code",
   "execution_count": null,
   "id": "665972f9",
   "metadata": {
    "id": "UEEbmTDa0DMr"
   },
   "outputs": [],
   "source": [
    "def makeCLIQUESolver( G, k ):\n",
    "  vertices = G.nodes() # get list of vertices\n",
    "\n",
    "  # First, we map each vertex to a unique boolean variable\n",
    "\n",
    "  vMap = {} # a dictionary mapping each vertex to a variable\n",
    "\n",
    "  for v in vertices:\n",
    "      var_name = 'x'+str(v)\n",
    "      var_v = Bool(var_name)\n",
    "      vMap[v] = var_v\n",
    "\n",
    "  s = Solver() # initialize solver\n",
    "\n",
    "  # We will construct a system with n variables such that if k of\n",
    "  # those variables are true, they correspond to a k-clique in G\n",
    "\n",
    "  # For each pair of vertices we will add a constraint\n",
    "  for u, v in itertools.combinations(vertices, 2):\n",
    "\n",
    "    var_u = vMap[u] # get boolean variable corresponding to vertex u\n",
    "    var_v = vMap[v] # get boolean variable corresponding to vertex v\n",
    "\n",
    "    isAdjacent = (u in G.neighbors(v)) # True if u and v are adjacent\n",
    "\n",
    "    s.add( Or( And( var_u, var_v, isAdjacent ), True ) )\n",
    "    # REPLACE THE LINE ABOVE with one that ensures u and v are both selected\n",
    "    # by the solver only if they are adjacent in G\n",
    "\n",
    "  # To ensure that at least k vertices are selected, we need another constraint\n",
    "\n",
    "  # First, let's build the following expression:\n",
    "  # sum_expr = x1 + x2 + x3 + ... + xn\n",
    "  # sum_expr is the expression equal to the sum of all of our variables\n",
    "\n",
    "  sum_expr = 0\n",
    "  for v in vertices:\n",
    "    var_v = vMap[v]\n",
    "    sum_expr += var_v\n",
    "\n",
    "  # using sum_expr, add a constraint below that forces at least k variables to be selected\n",
    "\n",
    "  s.add( sum_expr <= 0 ) # REPLACE THIS LINE\n",
    "  return s"
   ]
  },
  {
   "cell_type": "markdown",
   "id": "137ff965",
   "metadata": {
    "id": "5ArzxKoV_iTf"
   },
   "source": [
    "Let's test our solver on a few examples."
   ]
  },
  {
   "cell_type": "code",
   "execution_count": null,
   "id": "6474d905",
   "metadata": {
    "id": "831aomVu0MHf"
   },
   "outputs": [],
   "source": [
    "G = nx.complete_graph( 4 )\n",
    "s = makeCLIQUESolver( G, 3 )\n",
    "nx.draw(G, with_labels=True)\n",
    "print ( s.check() )\n",
    "print ( s.model() )"
   ]
  },
  {
   "cell_type": "code",
   "execution_count": null,
   "id": "c80bb6e0",
   "metadata": {
    "id": "0U6cRyrontMX"
   },
   "outputs": [],
   "source": [
    "G = nx.cycle_graph( 5 )\n",
    "s = makeCLIQUESolver( G, 3 )\n",
    "nx.draw( G, with_labels=True )\n",
    "print ( s.check() )"
   ]
  },
  {
   "cell_type": "code",
   "execution_count": null,
   "id": "7bcb80d7",
   "metadata": {
    "id": "DoUl-mFi0QgV"
   },
   "outputs": [],
   "source": [
    "G = nx.cycle_graph( 5 )\n",
    "s = makeCLIQUESolver( G, 2 )\n",
    "nx.draw( G, with_labels=True )\n",
    "print ( s.check() )"
   ]
  },
  {
   "cell_type": "markdown",
   "id": "9167f3f1",
   "metadata": {},
   "source": [
    "\n",
    "### Congratulations! You just wrote an SMT solver for CLIQUE!\n",
    "\n",
    "\n",
    "####If you'd like to continue your Z3 journey, you can start with this guide to learn more:\n",
    "https://ericpony.github.io/z3py-tutorial/guide-examples.htm"
   ]
  }
 ],
 "metadata": {},
 "nbformat": 4,
 "nbformat_minor": 5
}
