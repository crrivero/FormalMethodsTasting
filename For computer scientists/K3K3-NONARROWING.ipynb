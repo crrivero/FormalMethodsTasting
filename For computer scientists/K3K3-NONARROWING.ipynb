{
 "cells": [
  {
   "cell_type": "markdown",
   "id": "a0eebd3b",
   "metadata": {},
   "source": [
    "\n",
    "#Proving the correctness of the $(K3,K3)$-sender\n",
    "\n",
    "In this notebook, we will\n",
    "look at SMT solvers and see how they can be used to solve otherwise difficult problems. Particularly, we will prove the correctness of the $(K_3,K_3)$-sender, a gadget we used to prove the hardness of $(K_3,K_3)$-nonarrowing earlier this semester.\n",
    "\n",
    "Recall that a **$(K_3,K_3)$-sender** is a graph $G$ such that\n",
    "\n",
    "1.   $G$ is $(K_3,K_3)$-good,\n",
    "2.   There exists two edges, called **sender edges**, $e_1, e_2$ in $E(G)$ such that $e_1$ is red iff $e_2$ is red in all good colorings of $G$.\n",
    "\n",
    "\n",
    "We observed that the graph obtained as follows is a $(K_3, K_3)$-sender:\n",
    "\"Take two copies of K5 and identify a triangle in each. So, the gadget has 7 vertices. The two edges not connected to the shared triangle have the same color in any $(K_3, K_3)$-good coloring.\" From this point on, we will refer to the graph described as $G$.\n",
    "\n",
    "Below, we will first construct $G$ using a library called *NetworkX*, then encode the nonarrowing problem on $G$ using a boolean formula. Finally, we will\n",
    "use an SMT solver, *Z3*, to verify that sender edges always have the same color is good colorings of $G$.\n",
    "\n",
    "\n",
    "**Instructions:**\n",
    "1. To get started, click on File on the top left and click \"Save a copy in Drive.\"\n",
    "This will give you an editable version of this document that you can use.\n",
    "2. If you press `CMD`+`Enter` it runs the cell, and if you press `Shift`+`Enter` it runs the cell and goes to the next one.\n",
    "3. Make sure you run all cells as you go through the notebook; some cells will not work properly unless the previous one\n",
    "has been run too.\n",
    "4. If you disconnect or are inactive for some time you should run all of the cells again."
   ]
  },
  {
   "cell_type": "markdown",
   "id": "2061e5ac",
   "metadata": {},
   "source": [
    "## 0. Preliminaries (you should run this cell but there is no need to read it)"
   ]
  },
  {
   "cell_type": "code",
   "execution_count": null,
   "id": "d2ebcc23",
   "metadata": {},
   "outputs": [],
   "source": [
    "!pip install z3-solver\n",
    "!pip install git+https://github.com/crrivero/FormalMethodsTasting.git#subdirectory=core\n",
    "from z3 import *\n",
    "from tofmcore import showSolver, drawJ4, drawG, drawGandColoring, list_all_solutions\n",
    "import networkx as nx\n",
    "import itertools\n",
    "from IPython.display import clear_output\n",
    "clear_output()"
   ]
  },
  {
   "cell_type": "markdown",
   "id": "545f2b7d",
   "metadata": {},
   "source": [
    "## Encoding constraints in Z3\n",
    "\n",
    "The goal of this notebook is to teach you about formal methods;\n",
    "particularly, how you can use existing formal verification tools\n",
    "(in this case, Z3) to analyze and solve your own problems.\n",
    "Before we get started, let's look at some basic things we can do with Z3."
   ]
  },
  {
   "cell_type": "markdown",
   "id": "34263f58",
   "metadata": {
    "id": "jdd7iQ0h9rXb"
   },
   "source": [
    "### Boolean\n",
    "\n",
    "Suppose you have the following three boolean constraints and you want to check if there's a solution (an assignment of the variables) that satisfies all of them:\n",
    "\n",
    "$$ x_1 \\lor x_2 \\lor x_3 $$\n",
    "\n",
    "$$ \\neg x_1 \\implies \\neg x_2$$\n",
    "\n",
    "$$  x_1 \\land x_3  $$\n",
    "\n",
    "Let's see how we can do this using Z3."
   ]
  },
  {
   "cell_type": "code",
   "execution_count": null,
   "id": "7968c55f",
   "metadata": {
    "id": "IKNFYay926Gk"
   },
   "outputs": [],
   "source": [
    "s = Solver() # initialize Z3 solver\n",
    "\n",
    "# initialize variables\n",
    "\n",
    "x1 = Bool('x_1') # declaring that x_1 is a boolean variable in Z3 which will be referred to as x1 in Python\n",
    "x2 = Bool('x_2')\n",
    "x3 = Bool('x_3')\n",
    "\n",
    "# Note: we can also initialize multiple variables like so: x1, x2, x3 = Bools('x_1 x_2 x_3')\n",
    "\n",
    "# we use s.add(.) to add a constraint to our solver s\n",
    "# constraints can be made using many different operations such as Or, And, Not,\n",
    "# equality, etc.\n",
    "\n",
    "# here's how we would add the constraints above to our solver:\n",
    "\n",
    "s.add( Or( x1, x2, x3 ) ) # add the first constraint\n",
    "s.add( Implies( Not(x1), Not(x2) ) ) # add the second constraint\n",
    "s.add( And( x1, x3 ) ) # add the third constraint"
   ]
  },
  {
   "cell_type": "code",
   "execution_count": null,
   "id": "a2420cdc",
   "metadata": {
    "id": "wdGM_Wi0d-S7"
   },
   "outputs": [],
   "source": [
    "# to view the constraints in our solver, we can use the following:\n",
    "print( s )\n",
    "# this prints the constraints as they appear in Z3 using Z3's notation"
   ]
  },
  {
   "cell_type": "markdown",
   "id": "cb7ccd50",
   "metadata": {
    "id": "FZ6Mb6c2l4kK"
   },
   "source": [
    "For better readability, this notebook also has a custom print function to view our constraints in LaTeX format, like so:"
   ]
  },
  {
   "cell_type": "code",
   "execution_count": null,
   "id": "cc6ce2f7",
   "metadata": {
    "id": "WLxWHFrdeIjE"
   },
   "outputs": [],
   "source": [
    "showSolver( s )"
   ]
  },
  {
   "cell_type": "code",
   "execution_count": null,
   "id": "d68c4d21",
   "metadata": {
    "id": "YaKXNYniAB5O"
   },
   "outputs": [],
   "source": [
    "# we can use s.check() to run the solver and check whether its satisfiable:\n",
    "print ( s.check() )"
   ]
  },
  {
   "cell_type": "markdown",
   "id": "9c4659de",
   "metadata": {
    "id": "ibAii-dpESNL"
   },
   "source": [
    " \"sat\" means our system of constraints is satisfiable"
   ]
  },
  {
   "cell_type": "code",
   "execution_count": null,
   "id": "0068f34e",
   "metadata": {
    "id": "BA44Y5iy26Gm"
   },
   "outputs": [],
   "source": [
    "# after using s.check(),  we can use s.model() to output a solution if one exsits\n",
    "solution = s.model()\n",
    "print( solution )"
   ]
  },
  {
   "cell_type": "markdown",
   "id": "3874d3a6",
   "metadata": {
    "id": "CNxyyV1Q_vaP"
   },
   "source": [
    "Let's modify our system of constraint a bit and see if it's still satisfiable. Suppose we want to check if there's a solution where $x_1 = \\neg x_3$. Let's see how we would do this with Z3."
   ]
  },
  {
   "cell_type": "code",
   "execution_count": null,
   "id": "682c1111",
   "metadata": {
    "id": "srXFnMLo_ufc"
   },
   "outputs": [],
   "source": [
    "s.add( x1 == Not(x3) )\n",
    "showSolver( s )"
   ]
  },
  {
   "cell_type": "code",
   "execution_count": null,
   "id": "947c1a18",
   "metadata": {
    "id": "2TiotYP3D9LL"
   },
   "outputs": [],
   "source": [
    "print( s.check() ) # check if solution exists with new constraint"
   ]
  },
  {
   "cell_type": "markdown",
   "id": "69e1048f",
   "metadata": {
    "id": "NNK4N6iWD_LN"
   },
   "source": [
    "\"unsat\" means the system is not satisfiable, i.e., there is no assignment on the variables $x_1$, $x_2$, and $x_3$ that satisfies all the constraints we gave to the solver. **Note that if we were to run s.model() now we would get an error.**"
   ]
  },
  {
   "cell_type": "markdown",
   "id": "28c1cdfd",
   "metadata": {
    "id": "TKeTXfdqweuM"
   },
   "source": [
    "## Constructing $G$"
   ]
  },
  {
   "cell_type": "code",
   "execution_count": null,
   "id": "61833acc",
   "metadata": {
    "id": "ywMnSqazwj4j"
   },
   "outputs": [],
   "source": [
    "# Our first step is to construct $G$ as a NetworkX graph.\n",
    "\n",
    "# This simplest (albiet, most verbose) way to do this is by using a list of edges\n",
    "# For example, if you wanted to construct a J4 (a K4 missing an edge)\n",
    "# you can do it like so:\n",
    "J4 = nx.Graph( [ (0,1), (0,3), (1,2), (1,3), (2,3) ] )\n",
    "\n",
    "# To see what this looks like, we've defined a special function above that uses\n",
    "# NetworkX's drawing capabilities\n",
    "drawJ4(J4)"
   ]
  },
  {
   "cell_type": "code",
   "execution_count": null,
   "id": "4b7a582f",
   "metadata": {
    "id": "pz8q6-u4naNr"
   },
   "outputs": [],
   "source": [
    "# Now it's your turn! Complete the following definition of G to construct\n",
    "# the sender described in the introduction. When constructing the graph, use the\n",
    "# vertex labels 0, 1, 2, 3, 4, 5, and 6, and make sure that (0,1) and (5,6)\n",
    "# are your sender edges\n",
    "\n",
    "# Fun fact: instead of listing the edges, you can also construct the graph\n",
    "# using NetworkX's built-in functions, nx.complete_graph(.) and nx.compose(.)\n",
    "# but you should do whatever feels easier.\n",
    "\n",
    "G = nx.Graph([(0,1),(5,6)]) # replace this line\n",
    "\n",
    "# Once you've constructed the graph, you can run the next cell function to draw\n",
    "# it and verify whether you've done it correctly. The sender edges will be bolded"
   ]
  },
  {
   "cell_type": "code",
   "execution_count": null,
   "id": "04f60831",
   "metadata": {
    "id": "WDdwpVzmo1Q1"
   },
   "outputs": [],
   "source": [
    "drawG(G)"
   ]
  },
  {
   "cell_type": "markdown",
   "id": "32293450",
   "metadata": {
    "id": "jZBkx0Tx2coS"
   },
   "source": [
    "## Encoding $(K_3, K_3)$-nonarrowing as boolean formulas\n",
    "\n",
    "Recall that a graph is $(K_3, K_3)$-good coloring of $G$ is one where there are no red triangles and no blue triangles, when the edges of $G$ are colored red and blue. We will now see how to encode this as a boolean formula.\n",
    "\n",
    "Suppose we represent each edge $e \\in E(G)$ as a variable $x_e$. Note that $e$ has two state's w.r.t. what color it can be: red or blue. Similarly, $x_e$ can either be true or false. Thus, we'll say that $x_e$ is true iff $e$ is blue (the rhyme should make this correspondence easy to remember 😊).\n",
    "\n",
    "Thus, if we can construct or-clause(s) for each triangle that don't allow all of its edges to be the same color, the conjunction of all these clauses must give us a formula $\\phi$ such that each satisfying assignment of $\\phi$ will correspond to a good coloring of $G$.\n",
    "\n",
    "Below, we will see how to represent boolean formulas in Z3 and find their satisfying assignments."
   ]
  },
  {
   "cell_type": "markdown",
   "id": "deb456f2",
   "metadata": {
    "id": "uCraCEYH2j_2"
   },
   "source": [
    "### Finding Triangles in Graphs"
   ]
  },
  {
   "cell_type": "code",
   "execution_count": null,
   "id": "70697f88",
   "metadata": {
    "id": "qWabYrjV2iQK"
   },
   "outputs": [],
   "source": [
    "# First, we'll need a function that checks whether three given edges\n",
    "# form a triangle. This is easily done by checking the indices of the edges'\n",
    "# vertices, or counting the number of vertices and edges on the graph induced\n",
    "# by the given edges. Or, if you want to be clever, you can use some of\n",
    "# NetworkX's built-in isomorphism checking functions\n",
    "\n",
    "# You can assume that e1 e2 and e3 are 2-tuples of integers\n",
    "def isK3( e1, e2, e3 ):\n",
    "  return False"
   ]
  },
  {
   "cell_type": "code",
   "execution_count": null,
   "id": "9ce8e59a",
   "metadata": {
    "id": "LgPOhk8x5sAw"
   },
   "outputs": [],
   "source": [
    "# As a test, check that the following function returns True\n",
    "\n",
    "isK3( (5,6), (5,231), (6,231) )"
   ]
  },
  {
   "cell_type": "code",
   "execution_count": null,
   "id": "0d49cc77",
   "metadata": {
    "id": "1FxzjrhH6Bsg"
   },
   "outputs": [],
   "source": [
    "# the following returns False\n",
    "\n",
    "isK3( (5,6), (5,231), (6,232) )"
   ]
  },
  {
   "cell_type": "code",
   "execution_count": null,
   "id": "77ca5a13",
   "metadata": {
    "id": "dy28Y382ydt_"
   },
   "outputs": [],
   "source": [
    "# the following returns False\n",
    "\n",
    "isK3( (5,6), (5,231), (5,4) )"
   ]
  },
  {
   "cell_type": "markdown",
   "id": "77a53322",
   "metadata": {
    "id": "1p1rVCN1CDO_"
   },
   "source": [
    "### Constructing $G$'s formula\n",
    "\n",
    "Complete the code below to construct our desired formula."
   ]
  },
  {
   "cell_type": "code",
   "execution_count": null,
   "id": "3ba2ebd6",
   "metadata": {
    "id": "Iuv9X43ACNxz"
   },
   "outputs": [],
   "source": [
    "edges = G.edges() # get list of edges\n",
    "\n",
    "# First, we map each edge to a unique boolean variable\n",
    "\n",
    "eMap = {} # a dictionary mapping each edge in E(G) to a variable\n",
    "eMapInv = {} # the inverse of the dictionary above\n",
    "\n",
    "idx = 1\n",
    "for e in edges:\n",
    "    b_name = 'x'+str(idx)\n",
    "    b = Bool(b_name)\n",
    "    eMap[e] = b\n",
    "    eMapInv[b_name] = e\n",
    "    idx += 1\n",
    "s = Solver() # initialize solver\n",
    "\n",
    "for e1, e2, e3 in itertools.combinations( edges, 3 ): # iterate over all 3-tuples of edges\n",
    "    # if e1 e2 and e3 form a triangle\n",
    "    if ( isK3(e1, e2, e3) ):\n",
    "        # add clauses to solver\n",
    "\n",
    "        e1Var = eMap[e1]\n",
    "        e2Var = eMap[e2]\n",
    "        e3Var = eMap[e3]\n",
    "\n",
    "        # ADD YOUR CODE HERE\n",
    "\n",
    "        s.add( Or(e1Var) ) # replace this line\n",
    "        s.add( Or(Not(e2Var)) ) # replace this line\n",
    "\n",
    "# we have defined a function that, given a Z3 solver, obtains the list of all\n",
    "# possible solutions\n",
    "good_colorings = list_all_solutions( s, list(eMap.values()) )"
   ]
  },
  {
   "cell_type": "code",
   "execution_count": null,
   "id": "7d93e52a",
   "metadata": {
    "id": "wSyhNYvnDY1o"
   },
   "outputs": [],
   "source": [
    "# Assuming everything is done correctly, we should have 24 solutions,\n",
    "# each of which corresponds to a good coloring of G\n",
    "print(len(good_colorings))"
   ]
  },
  {
   "cell_type": "code",
   "execution_count": null,
   "id": "f3827fc0",
   "metadata": {
    "id": "Fiwec_9YV7MA"
   },
   "outputs": [],
   "source": [
    "# To view these solutions, run the code in this cell with an index between 0\n",
    "# and 23 to view one of the good colorings of G\n",
    "drawGandColoring(G, eMapInv, good_colorings, index=0)"
   ]
  },
  {
   "cell_type": "markdown",
   "id": "adb21d07",
   "metadata": {
    "id": "blkXh4laHG7w"
   },
   "source": [
    "Now, we have two ways to verify that $(0,1)$ and $(5,6)$ are always the same color\n",
    "\n",
    "1.   Enumerate over all colorings and check that the edges are always the same color\n",
    "2.   Add extra clause(s) to $\\phi$ that forces $(0,1)$ and $(5,6)$ to be the same color and verify that there are no solutions to this new formula\n",
    "\n",
    "We will opt for the latter, simpler solution, given our newfound SMT-solving prowess."
   ]
  },
  {
   "cell_type": "code",
   "execution_count": null,
   "id": "ecc70c77",
   "metadata": {
    "id": "fuOKFX1SFvQI"
   },
   "outputs": [],
   "source": [
    "# We must first reinitialize our solver, since enumerating over all solutions\n",
    "# makes the solver unsatisfiable\n",
    "\n",
    "s = Solver() # initialize solver\n",
    "\n",
    "for e1, e2, e3 in itertools.combinations( edges, 3 ): # iterate over all 3-tuples of edges\n",
    "    # if e1 e2 and e3 form a triangle\n",
    "    if ( isK3(e1, e2, e3) ):\n",
    "        # add clauses to solver\n",
    "\n",
    "        e1Var = eMap[e1]\n",
    "        e2Var = eMap[e2]\n",
    "        e3Var = eMap[e3]\n",
    "\n",
    "        # ADD YOUR CODE HERE\n",
    "\n",
    "        s.add( Or(e1Var) ) # replace this line, same as before\n",
    "        s.add( Or(Not(e2Var)) ) # replace this line, same as before\n",
    "\n",
    "\n",
    "# Add the new clause(s) to phi below\n",
    "\n",
    "e1Var = eMap[ (0,1) ]\n",
    "e2Var = eMap[ (5,6) ]\n",
    "\n",
    "# ADD YOUR CODE HERE\n",
    "\n",
    "s.add( Or(Not(e2Var)) ) # replace this line\n",
    "\n",
    "# The following should return unsat\n",
    "s.check()"
   ]
  },
  {
   "cell_type": "markdown",
   "id": "dd937a49",
   "metadata": {},
   "source": [
    "\n",
    "### Congratulations! You just proved that $G$ is a valid $(K_3, K_3)$-sender!\n",
    "\n",
    "\n",
    "####If you'd like to continue your Z3 journey, you can start with this guide to learn more:\n",
    "https://ericpony.github.io/z3py-tutorial/guide-examples.htm"
   ]
  }
 ],
 "metadata": {},
 "nbformat": 4,
 "nbformat_minor": 5
}
